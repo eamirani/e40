{
  "nbformat": 4,
  "nbformat_minor": 0,
  "metadata": {
    "colab": {
      "name": "Untitled0.ipynb",
      "provenance": [],
      "authorship_tag": "ABX9TyN0xqbEmSMQNJR1Cy6cQXyI",
      "include_colab_link": true
    },
    "kernelspec": {
      "name": "python3",
      "display_name": "Python 3"
    },
    "language_info": {
      "name": "python"
    }
  },
  "cells": [
    {
      "cell_type": "markdown",
      "metadata": {
        "id": "view-in-github",
        "colab_type": "text"
      },
      "source": [
        "<a href=\"https://colab.research.google.com/github/eamirani/e40/blob/master/Untitled0.ipynb\" target=\"_parent\"><img src=\"https://colab.research.google.com/assets/colab-badge.svg\" alt=\"Open In Colab\"/></a>"
      ]
    },
    {
      "cell_type": "code",
      "metadata": {
        "colab": {
          "base_uri": "https://localhost:8080/"
        },
        "id": "dhN2_Jyfi4TD",
        "outputId": "66e9266a-320d-4ecf-89de-5d626f8b6932"
      },
      "source": [
        "\n",
        "dic={\n",
        "   \"n\":1,\n",
        "   \"h\":2,\n",
        "    \"a\":3  \n",
        "}\n",
        "\n",
        "\n",
        "\n",
        "for key in dic.keys():\n",
        "  print(\"key is  {}: and the value is {}\".format(key,dic[ii]))"
      ],
      "execution_count": null,
      "outputs": [
        {
          "output_type": "stream",
          "name": "stdout",
          "text": [
            "key is  n: and the value is 3\n",
            "key is  h: and the value is 3\n",
            "key is  a: and the value is 3\n"
          ]
        }
      ]
    },
    {
      "cell_type": "code",
      "metadata": {
        "colab": {
          "base_uri": "https://localhost:8080/"
        },
        "id": "wXBOKCZdQHfX",
        "outputId": "12c697d5-f72c-461e-e20d-738ad5579bd4"
      },
      "source": [
        "\n",
        "dic={\n",
        "   \"n\":1,\n",
        "   \"h\":2,\n",
        "    \"a\":3  \n",
        "     }\n",
        "     \n",
        "\n",
        "for k in dic.keys():\n",
        "  v=dic[k]\n",
        "  print(\"the value of {} is :{}\".format(k,v))\n",
        "  k=\"hvv\"\n",
        "  print(k)"
      ],
      "execution_count": null,
      "outputs": [
        {
          "output_type": "stream",
          "name": "stdout",
          "text": [
            "the value of n is :1\n",
            "hvv\n",
            "the value of h is :2\n",
            "hvv\n",
            "the value of a is :3\n",
            "hvv\n"
          ]
        }
      ]
    },
    {
      "cell_type": "code",
      "metadata": {
        "colab": {
          "base_uri": "https://localhost:8080/"
        },
        "id": "qQ7Fh81Pw49D",
        "outputId": "d0c8738d-89c3-4ad7-d469-3ff45d1b57f9"
      },
      "source": [
        "p=int(input(\"پایه را وراد کنید\"))\n",
        "t=int(input(\"توان را وارد کنید\"))\n",
        "def power(p,t):\n",
        " \n",
        "  r=p**t\n",
        "  return r\n",
        "print((power(p,t)))"
      ],
      "execution_count": 45,
      "outputs": [
        {
          "output_type": "stream",
          "name": "stdout",
          "text": [
            "پایه را وراد کنید4\n",
            "توان را وارد کنید3\n",
            "64\n"
          ]
        }
      ]
    }
  ]
}